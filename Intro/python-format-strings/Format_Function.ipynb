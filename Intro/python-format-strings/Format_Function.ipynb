{
 "metadata": {
  "language_info": {
   "codemirror_mode": {
    "name": "ipython",
    "version": 3
   },
   "file_extension": ".py",
   "mimetype": "text/x-python",
   "name": "python",
   "nbconvert_exporter": "python",
   "pygments_lexer": "ipython3",
   "version": "3.8.10"
  },
  "orig_nbformat": 4,
  "kernelspec": {
   "name": "python3",
   "display_name": "Python 3.8.10 64-bit ('MeusProjetos3.8': conda)"
  },
  "interpreter": {
   "hash": "820ac3e91aa882cfecbcd0ba838da4826cd6ea1f02d00dd3af3aeec0a19e6edd"
  }
 },
 "nbformat": 4,
 "nbformat_minor": 2,
 "cells": [
  {
   "source": [
    "## Usando a poderosa função format()\n",
    "\n",
    "* format(): Essa função mescla valores em um modelo de cadeia de caracteres literal sem a necessidade de concatenação confusa de cadeia de caracteres. Ela também pode formatar esses valores mesclados para exibição adequada, como no caso de números, datas e horas."
   ],
   "cell_type": "markdown",
   "metadata": {}
  },
  {
   "cell_type": "code",
   "execution_count": 1,
   "metadata": {},
   "outputs": [
    {
     "output_type": "stream",
     "name": "stdout",
     "text": [
      "Coughussin - Take 5 ML by mouth every 4.5 hours\n4.5 - Take 5 ML by mouth every Coughussin hours\nSneezergen - Take 10 ML by mouth every 6 hours\n"
     ]
    }
   ],
   "source": [
    "# Substituindo caracteres usando o método de mesclagem\n",
    "medicine = 'Coughussin'\n",
    "dosage = 5\n",
    "duration = 4.5\n",
    "\n",
    "instructions = '{} - Take {} ML by mouth every {} hours'.format(medicine, dosage, duration)\n",
    "print(instructions)\n",
    "\n",
    "instructions = '{2} - Take {1} ML by mouth every {0} hours'.format(medicine, dosage, duration)\n",
    "print(instructions)\n",
    "\n",
    "instructions = '{medicine} - Take {dosage} ML by mouth every {duration} hours'.format(medicine = 'Sneezergen', dosage = 10, duration = 6)\n",
    "\n",
    "print(instructions)"
   ]
  },
  {
   "cell_type": "code",
   "execution_count": 3,
   "metadata": {},
   "outputs": [
    {
     "output_type": "stream",
     "name": "stdout",
     "text": [
      "Hello, World.\nCount to 10.  Multiply by 3.14.\n"
     ]
    }
   ],
   "source": [
    "# Você pode obter a mesma funcionalidade com menos digitação usando literais de cadeia de caracteres formatados, também conhecidos como cadeias de caracteres f.\n",
    "name = 'World'\n",
    "message = f'Hello, {name}.'\n",
    "print(message)\n",
    "\n",
    "count = 10\n",
    "value = 3.14\n",
    "message = f'Count to {count}.  Multiply by {value}.'\n",
    "print(message)"
   ]
  },
  {
   "cell_type": "code",
   "execution_count": 4,
   "metadata": {},
   "outputs": [
    {
     "output_type": "stream",
     "name": "stdout",
     "text": [
      "The perimeter is 30 and the area is 50.\n"
     ]
    }
   ],
   "source": [
    "# Avaliando expressões simples no campo de substituição de uma cadeia de caracteres f\n",
    "width = 5\n",
    "height = 10\n",
    "\n",
    "print(f'The perimeter is {(2 * width) + (2 * height)} and the area is {width * height}.')"
   ]
  },
  {
   "cell_type": "code",
   "execution_count": 6,
   "metadata": {},
   "outputs": [
    {
     "output_type": "stream",
     "name": "stdout",
     "text": [
      ".hi                       .\n.                       hi.\n.           hi            .\n.-----------hi------------.\n"
     ]
    }
   ],
   "source": [
    "# Definindo especificadores de formato para controlar o alinhamento e o preenchimento\n",
    "value = 'hi'\n",
    "\n",
    "print(f'.{value:<25}.')\n",
    "print(f'.{value:>25}.')\n",
    "print(f'.{value:^25}.')\n",
    "print(f'.{value:-^25}.')"
   ]
  },
  {
   "cell_type": "code",
   "execution_count": null,
   "metadata": {},
   "outputs": [],
   "source": []
  }
 ]
}