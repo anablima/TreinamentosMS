{
 "metadata": {
  "language_info": {
   "codemirror_mode": {
    "name": "ipython",
    "version": 3
   },
   "file_extension": ".py",
   "mimetype": "text/x-python",
   "name": "python",
   "nbconvert_exporter": "python",
   "pygments_lexer": "ipython3",
   "version": "3.8.10"
  },
  "orig_nbformat": 4,
  "kernelspec": {
   "name": "python3",
   "display_name": "Python 3.8.10 64-bit ('MeusProjetos3.8': conda)"
  },
  "interpreter": {
   "hash": "820ac3e91aa882cfecbcd0ba838da4826cd6ea1f02d00dd3af3aeec0a19e6edd"
  }
 },
 "nbformat": 4,
 "nbformat_minor": 2,
 "cells": [
  {
   "cell_type": "code",
   "execution_count": 1,
   "metadata": {},
   "outputs": [
    {
     "output_type": "stream",
     "name": "stdout",
     "text": [
      "True\n"
     ]
    }
   ],
   "source": [
    "# Comparando cadeia de caracteres com os 2 tipos de aspas\n",
    "first_string = 'Uma string'\n",
    "second_string = \"Uma string\"\n",
    "print(second_string == first_string)"
   ]
  },
  {
   "cell_type": "code",
   "execution_count": 2,
   "metadata": {},
   "outputs": [
    {
     "output_type": "stream",
     "name": "stdout",
     "text": [
      "Uma cadeia de caracteres com aspas simples com \" aspas duplas dentro\nUma cadeia de caracteres com aspas duplas com ' aspas simples dentro\n"
     ]
    }
   ],
   "source": [
    "# Usando aspas duplas ou simples dentro de uma cadeia de caracteres\n",
    "third_string = 'Uma cadeia de caracteres com aspas simples com \" aspas duplas dentro'\n",
    "fourth_string = \"Uma cadeia de caracteres com aspas duplas com ' aspas simples dentro\"\n",
    "print(third_string)\n",
    "print(fourth_string)"
   ]
  },
  {
   "cell_type": "code",
   "execution_count": 3,
   "metadata": {},
   "outputs": [
    {
     "output_type": "stream",
     "name": "stdout",
     "text": [
      "Uma cadeia de caracteres com um ' para gerar aspas simples\nUma cadeia de caracteres com um \" para gerar aspas duplas\nUma cadeia de caracteres com uma \n para pular uma linha na string\nUma cadeia de caracteres com uma \t para dar tab dentro da string\n"
     ]
    }
   ],
   "source": [
    "fifth_string = 'Uma cadeia de caracteres com um \\' para gerar aspas simples'\n",
    "sixth_string = \"Uma cadeia de caracteres com um \\\" para gerar aspas duplas\"\n",
    "seventh_string = 'Uma cadeia de caracteres com uma \\n para pular uma linha na string'\n",
    "eighth_string = 'Uma cadeia de caracteres com uma \\t para dar tab dentro da string'\n",
    "\n",
    "print(fifth_string)\n",
    "print(sixth_string)\n",
    "print(seventh_string)\n",
    "print(eighth_string)"
   ]
  },
  {
   "cell_type": "code",
   "execution_count": 6,
   "metadata": {},
   "outputs": [
    {
     "output_type": "stream",
     "name": "stdout",
     "text": [
      "Uma cadeia de caracteres com \\n nova linha de caracteres para mostrar raw\n"
     ]
    }
   ],
   "source": [
    "# Mostrando a cadeia de caracteres bruta\n",
    "ninth_string = r\"Uma cadeia de caracteres com \\n nova linha de caracteres para mostrar raw\"\n",
    "\n",
    "print(ninth_string)"
   ]
  },
  {
   "cell_type": "code",
   "execution_count": 5,
   "metadata": {},
   "outputs": [
    {
     "output_type": "stream",
     "name": "stdout",
     "text": [
      "Uma cadeia de caracteres\ncom mais de uma linha\nas vezes precisa ser retornada\n\nAlgumas cadeias de caracteres\n     com mais de uma linha\nusam aspas duplas\n"
     ]
    }
   ],
   "source": [
    "# Criando cadeia de caracteres multilinha\n",
    "tenth_string = '''Uma cadeia de caracteres\n",
    "com mais de uma linha\n",
    "as vezes precisa ser retornada'''\n",
    "\n",
    "eleventh_string = \"\"\"Algumas cadeias de caracteres\n",
    "     com mais de uma linha\n",
    "usam aspas duplas\"\"\"\n",
    "\n",
    "print(tenth_string+'\\n')\n",
    "print(eleventh_string)"
   ]
  },
  {
   "cell_type": "code",
   "execution_count": 7,
   "metadata": {},
   "outputs": [
    {
     "output_type": "stream",
     "name": "stdout",
     "text": [
      "Conrad Grant\nConrad Grant Bob\nConrad-Grant-Bob\nConrad-Grant-Bob."
     ]
    }
   ],
   "source": [
    "# Parâmetros de separação e finalização de cadeias de caracteres\n",
    "first = 'Conrad'\n",
    "second = 'Grant'\n",
    "third = 'Bob'\n",
    "print(first, second)\n",
    "print(first, second, third)\n",
    "print(first, second, third, sep='-')\n",
    "print(first, second, third, sep='-', end='.')"
   ]
  },
  {
   "cell_type": "code",
   "execution_count": null,
   "metadata": {},
   "outputs": [],
   "source": []
  }
 ]
}