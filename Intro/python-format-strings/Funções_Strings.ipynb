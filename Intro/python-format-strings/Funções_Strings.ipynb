{
 "metadata": {
  "language_info": {
   "codemirror_mode": {
    "name": "ipython",
    "version": 3
   },
   "file_extension": ".py",
   "mimetype": "text/x-python",
   "name": "python",
   "nbconvert_exporter": "python",
   "pygments_lexer": "ipython3",
   "version": "3.8.10"
  },
  "orig_nbformat": 4,
  "kernelspec": {
   "name": "python3",
   "display_name": "Python 3.8.10 64-bit ('MeusProjetos3.8': conda)"
  },
  "interpreter": {
   "hash": "820ac3e91aa882cfecbcd0ba838da4826cd6ea1f02d00dd3af3aeec0a19e6edd"
  }
 },
 "nbformat": 4,
 "nbformat_minor": 2,
 "cells": [
  {
   "source": [
    "## Usando a função capitalize()\n",
    "### 3 modos diferentes\n",
    "\n",
    "* capitalize(): É a função que garante que o primeiro caractere em uma cadeia de caracteres esteja em letra maiúscula. Somente a primeira letra da cadeia de caracteres será maiúscula."
   ],
   "cell_type": "markdown",
   "metadata": {}
  },
  {
   "cell_type": "code",
   "execution_count": 2,
   "metadata": {},
   "outputs": [
    {
     "output_type": "stream",
     "name": "stdout",
     "text": [
      "Primeiro modo de usar essa função.\nSegundo modo de usar essa função.\nTerceiro modo de usar essa função.\n"
     ]
    }
   ],
   "source": [
    "# Modo I\n",
    "message = str.capitalize('Primeiro modo de usar essa função.')\n",
    "print(message)\n",
    "\n",
    "# Modo II\n",
    "message = 'Segundo modo de usar essa função.'.capitalize()\n",
    "print(message)\n",
    "\n",
    "# Modo III\n",
    "message = 'Terceiro modo de usar essa função.'\n",
    "print(message.capitalize())"
   ]
  },
  {
   "source": [
    "## Usando as funções upper(), lower(), title() e swapcase() em cadeias de caracteres\n",
    "\n",
    "* upper(): Deixa todos os caracteres em minúsculo.\n",
    "\n",
    "* lower(): Deixa todos os caracteres em maiúsculo.\n",
    "\n",
    "* title(): Inicia todas as palavras de uma cadeia de caracteres com a letra maiúscula. \n",
    "\n",
    "* swapcase(): Inverte a ordem dos caracteres."
   ],
   "cell_type": "markdown",
   "metadata": {}
  },
  {
   "cell_type": "code",
   "execution_count": 4,
   "metadata": {},
   "outputs": [
    {
     "output_type": "stream",
     "name": "stdout",
     "text": [
      "hello world python baby!\nHELLO WORLD PYTHON BABY!\nHello World Python Baby!\nhELLO wORLD pYTHON bABY!\n"
     ]
    }
   ],
   "source": [
    "# Funções lower() e upper()\n",
    "message = 'hello world python baby!'\n",
    "print(message.lower())\n",
    "print(message.upper())\n",
    "\n",
    "# Funções title() e swapcase()\n",
    "message = message.title()\n",
    "print(message)\n",
    "print(message.swapcase())"
   ]
  },
  {
   "source": [
    "## Usando as funções count() e len()\n",
    "\n",
    "* count(): Essa função é utilizada para contar quantas vezes um caracter específico aparece dentro de uma cadeia de caracteres.\n",
    "\n",
    "* len(): Essa função é utilizada para contar a quantidade de caracteres que existem em uma cadeia de caracteres."
   ],
   "cell_type": "markdown",
   "metadata": {}
  },
  {
   "cell_type": "code",
   "execution_count": 5,
   "metadata": {},
   "outputs": [
    {
     "output_type": "stream",
     "name": "stdout",
     "text": [
      "4\n"
     ]
    }
   ],
   "source": [
    "# Função count()\n",
    "location = 'Mississippi'\n",
    "print(location.count('s'))"
   ]
  },
  {
   "cell_type": "code",
   "execution_count": 6,
   "metadata": {},
   "outputs": [
    {
     "output_type": "stream",
     "name": "stdout",
     "text": [
      "35\n"
     ]
    }
   ],
   "source": [
    "# Função len()\n",
    "print(len('how many characters in this string?'))"
   ]
  },
  {
   "source": [
    "## Usando as funções startswith() e endswith()\n",
    "\n",
    "* startswith(): Essa função serve inspecionar o conteúdo de uma cadeia de caracteres para descobrir se ela corresponde àquilo com que você esperava que ela começasse.\n",
    "\n",
    "* endswith(): Essa função serve inspecionar o conteúdo de uma cadeia de caracteres para descobrir se ela corresponde àquilo com que você esperava que ela terminasse."
   ],
   "cell_type": "markdown",
   "metadata": {}
  },
  {
   "cell_type": "code",
   "execution_count": 7,
   "metadata": {},
   "outputs": [
    {
     "output_type": "stream",
     "name": "stdout",
     "text": [
      "True\nFalse\nTrue\nTrue\nFalse\nTrue\n"
     ]
    }
   ],
   "source": [
    "# Função startswith()\n",
    "message = 'racecar'\n",
    "print(message.startswith('r'))\n",
    "print(message.startswith('a'))\n",
    "print(message.startswith('ra'))\n",
    "\n",
    "# Função endswith()\n",
    "print(message.endswith('r'))\n",
    "print(message.endswith('a'))\n",
    "print(message.endswith('ar'))"
   ]
  },
  {
   "source": [
    "## Usando a função find()\n",
    "\n",
    "* find(): Essa função é utilizada para localizar a posição de um caracter especificado, contando a partir do 0 como é padrão no Python. Lembrando que essa função é case-sensitive."
   ],
   "cell_type": "markdown",
   "metadata": {}
  },
  {
   "cell_type": "code",
   "execution_count": 11,
   "metadata": {},
   "outputs": [
    {
     "output_type": "stream",
     "name": "stdout",
     "text": [
      "4\n31\n0\n"
     ]
    }
   ],
   "source": [
    "message = 'The quick brown fox jumps over the lazy dog'\n",
    "print(message.find('q'))\n",
    "\n",
    "print(message.find('t'))\n",
    "print(message.find('T'))"
   ]
  },
  {
   "source": [
    "## Usando as funções lstrip(), rstrip() e strip()\n",
    "\n",
    "* lstrip(): Remove caracteres de espaço vazios do lado esquerdo de uma cadeia de caracteres.\n",
    "\n",
    "* rstrip(): Remove caracteres de espaço vazios do lado direito de uma cadeia de caracteres.\n",
    "\n",
    "* strip(): Remove caracteres de espaço vazios de ambos os lados de uma cadeia de caracteres."
   ],
   "cell_type": "markdown",
   "metadata": {}
  },
  {
   "cell_type": "code",
   "execution_count": 12,
   "metadata": {},
   "outputs": [
    {
     "output_type": "stream",
     "name": "stdout",
     "text": [
      ".middle     .\n.    middle.\n.middle.\n"
     ]
    }
   ],
   "source": [
    "message = '    middle     '\n",
    "print('.' + message.lstrip() + '.')\n",
    "print('.' + message.rstrip() + '.')\n",
    "print('.' + message.strip() + '.')"
   ]
  },
  {
   "source": [
    "## Usando a função replace()\n",
    "\n",
    "* replace(): É utilizado para substituir, caracteres ou conjuntos de caracteres, especificados."
   ],
   "cell_type": "markdown",
   "metadata": {}
  },
  {
   "cell_type": "code",
   "execution_count": 13,
   "metadata": {},
   "outputs": [
    {
     "output_type": "stream",
     "name": "stdout",
     "text": [
      "brevity is the soul of wit\n"
     ]
    }
   ],
   "source": [
    "message = 'brevity is the essence of wit'\n",
    "message = message.replace('essence', 'soul')\n",
    "print(message)"
   ]
  },
  {
   "source": [
    "## Usando as funções rjust() e ljust()\n",
    "\n",
    "* rjust(): Adiciona caracteres de espaço vazio a uma cadeia de caracteres para justificar à direita.\n",
    "\n",
    "* ljust(): Adiciona caracteres de espaço vazio a uma cadeia de caracteres para justificar à esquerda.\n",
    "\n",
    "Obs.: Também é possível acrescentar um caracter especial no lugar dos espaços."
   ],
   "cell_type": "markdown",
   "metadata": {}
  },
  {
   "cell_type": "code",
   "execution_count": 1,
   "metadata": {},
   "outputs": [
    {
     "output_type": "stream",
     "name": "stdout",
     "text": [
      "               howdy\n---------------howdy\nhowdy               \nhowdy---------------\n"
     ]
    }
   ],
   "source": [
    "message = 'howdy'\n",
    "print(message.rjust(20))\n",
    "print(message.rjust(20, '-'))\n",
    "print(message.ljust(20))\n",
    "print(message.ljust(20, '-'))"
   ]
  },
  {
   "cell_type": "code",
   "execution_count": null,
   "metadata": {},
   "outputs": [],
   "source": []
  }
 ]
}